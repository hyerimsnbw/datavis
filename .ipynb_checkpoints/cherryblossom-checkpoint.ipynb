{
 "cells": [
  {
   "cell_type": "code",
   "execution_count": 1,
   "metadata": {
    "colab": {
     "base_uri": "https://localhost:8080/"
    },
    "id": "fCRJFOk05bB0",
    "outputId": "d7f119c9-f721-4030-9caa-ac3d95a56a14"
   },
   "outputs": [
    {
     "name": "stderr",
     "output_type": "stream",
     "text": [
      "'sudo'은(는) 내부 또는 외부 명령, 실행할 수 있는 프로그램, 또는\n",
      "배치 파일이 아닙니다.\n",
      "'sudo'은(는) 내부 또는 외부 명령, 실행할 수 있는 프로그램, 또는\n",
      "배치 파일이 아닙니다.\n",
      "'rm'은(는) 내부 또는 외부 명령, 실행할 수 있는 프로그램, 또는\n",
      "배치 파일이 아닙니다.\n"
     ]
    }
   ],
   "source": [
    "!sudo apt-get install -y fonts-nanum\n",
    "!sudo fc-cache -fv\n",
    "!rm ~/.cache/matplotlib -rf"
   ]
  },
  {
   "cell_type": "code",
   "execution_count": 2,
   "metadata": {
    "id": "S8tM3R8XZnjt"
   },
   "outputs": [],
   "source": [
    "import pandas as pd\n",
    "import numpy as np\n",
    "import datetime"
   ]
  },
  {
   "cell_type": "code",
   "execution_count": 3,
   "metadata": {
    "colab": {
     "base_uri": "https://localhost:8080/",
     "height": 863
    },
    "id": "7nV22ZGhdEt0",
    "outputId": "2f33e557-7afd-4d94-82da-ef0b58a2325e"
   },
   "outputs": [
    {
     "ename": "FileNotFoundError",
     "evalue": "[Errno 2] No such file or directory: '/content/OBS_계절관측_20240313151429.csv'",
     "output_type": "error",
     "traceback": [
      "\u001b[1;31m---------------------------------------------------------------------------\u001b[0m",
      "\u001b[1;31mFileNotFoundError\u001b[0m                         Traceback (most recent call last)",
      "Cell \u001b[1;32mIn[3], line 1\u001b[0m\n\u001b[1;32m----> 1\u001b[0m df \u001b[38;5;241m=\u001b[39m pd\u001b[38;5;241m.\u001b[39mread_csv(\u001b[38;5;124m\"\u001b[39m\u001b[38;5;124m/content/OBS_계절관측_20240313151429.csv\u001b[39m\u001b[38;5;124m\"\u001b[39m, encoding \u001b[38;5;241m=\u001b[39m \u001b[38;5;124m'\u001b[39m\u001b[38;5;124mcp949\u001b[39m\u001b[38;5;124m'\u001b[39m)\n\u001b[0;32m      2\u001b[0m df\u001b[38;5;241m.\u001b[39mhead(\u001b[38;5;241m25\u001b[39m)\n",
      "File \u001b[1;32m~\\anaconda3\\Lib\\site-packages\\pandas\\io\\parsers\\readers.py:912\u001b[0m, in \u001b[0;36mread_csv\u001b[1;34m(filepath_or_buffer, sep, delimiter, header, names, index_col, usecols, dtype, engine, converters, true_values, false_values, skipinitialspace, skiprows, skipfooter, nrows, na_values, keep_default_na, na_filter, verbose, skip_blank_lines, parse_dates, infer_datetime_format, keep_date_col, date_parser, date_format, dayfirst, cache_dates, iterator, chunksize, compression, thousands, decimal, lineterminator, quotechar, quoting, doublequote, escapechar, comment, encoding, encoding_errors, dialect, on_bad_lines, delim_whitespace, low_memory, memory_map, float_precision, storage_options, dtype_backend)\u001b[0m\n\u001b[0;32m    899\u001b[0m kwds_defaults \u001b[38;5;241m=\u001b[39m _refine_defaults_read(\n\u001b[0;32m    900\u001b[0m     dialect,\n\u001b[0;32m    901\u001b[0m     delimiter,\n\u001b[1;32m   (...)\u001b[0m\n\u001b[0;32m    908\u001b[0m     dtype_backend\u001b[38;5;241m=\u001b[39mdtype_backend,\n\u001b[0;32m    909\u001b[0m )\n\u001b[0;32m    910\u001b[0m kwds\u001b[38;5;241m.\u001b[39mupdate(kwds_defaults)\n\u001b[1;32m--> 912\u001b[0m \u001b[38;5;28;01mreturn\u001b[39;00m _read(filepath_or_buffer, kwds)\n",
      "File \u001b[1;32m~\\anaconda3\\Lib\\site-packages\\pandas\\io\\parsers\\readers.py:577\u001b[0m, in \u001b[0;36m_read\u001b[1;34m(filepath_or_buffer, kwds)\u001b[0m\n\u001b[0;32m    574\u001b[0m _validate_names(kwds\u001b[38;5;241m.\u001b[39mget(\u001b[38;5;124m\"\u001b[39m\u001b[38;5;124mnames\u001b[39m\u001b[38;5;124m\"\u001b[39m, \u001b[38;5;28;01mNone\u001b[39;00m))\n\u001b[0;32m    576\u001b[0m \u001b[38;5;66;03m# Create the parser.\u001b[39;00m\n\u001b[1;32m--> 577\u001b[0m parser \u001b[38;5;241m=\u001b[39m TextFileReader(filepath_or_buffer, \u001b[38;5;241m*\u001b[39m\u001b[38;5;241m*\u001b[39mkwds)\n\u001b[0;32m    579\u001b[0m \u001b[38;5;28;01mif\u001b[39;00m chunksize \u001b[38;5;129;01mor\u001b[39;00m iterator:\n\u001b[0;32m    580\u001b[0m     \u001b[38;5;28;01mreturn\u001b[39;00m parser\n",
      "File \u001b[1;32m~\\anaconda3\\Lib\\site-packages\\pandas\\io\\parsers\\readers.py:1407\u001b[0m, in \u001b[0;36mTextFileReader.__init__\u001b[1;34m(self, f, engine, **kwds)\u001b[0m\n\u001b[0;32m   1404\u001b[0m     \u001b[38;5;28mself\u001b[39m\u001b[38;5;241m.\u001b[39moptions[\u001b[38;5;124m\"\u001b[39m\u001b[38;5;124mhas_index_names\u001b[39m\u001b[38;5;124m\"\u001b[39m] \u001b[38;5;241m=\u001b[39m kwds[\u001b[38;5;124m\"\u001b[39m\u001b[38;5;124mhas_index_names\u001b[39m\u001b[38;5;124m\"\u001b[39m]\n\u001b[0;32m   1406\u001b[0m \u001b[38;5;28mself\u001b[39m\u001b[38;5;241m.\u001b[39mhandles: IOHandles \u001b[38;5;241m|\u001b[39m \u001b[38;5;28;01mNone\u001b[39;00m \u001b[38;5;241m=\u001b[39m \u001b[38;5;28;01mNone\u001b[39;00m\n\u001b[1;32m-> 1407\u001b[0m \u001b[38;5;28mself\u001b[39m\u001b[38;5;241m.\u001b[39m_engine \u001b[38;5;241m=\u001b[39m \u001b[38;5;28mself\u001b[39m\u001b[38;5;241m.\u001b[39m_make_engine(f, \u001b[38;5;28mself\u001b[39m\u001b[38;5;241m.\u001b[39mengine)\n",
      "File \u001b[1;32m~\\anaconda3\\Lib\\site-packages\\pandas\\io\\parsers\\readers.py:1661\u001b[0m, in \u001b[0;36mTextFileReader._make_engine\u001b[1;34m(self, f, engine)\u001b[0m\n\u001b[0;32m   1659\u001b[0m     \u001b[38;5;28;01mif\u001b[39;00m \u001b[38;5;124m\"\u001b[39m\u001b[38;5;124mb\u001b[39m\u001b[38;5;124m\"\u001b[39m \u001b[38;5;129;01mnot\u001b[39;00m \u001b[38;5;129;01min\u001b[39;00m mode:\n\u001b[0;32m   1660\u001b[0m         mode \u001b[38;5;241m+\u001b[39m\u001b[38;5;241m=\u001b[39m \u001b[38;5;124m\"\u001b[39m\u001b[38;5;124mb\u001b[39m\u001b[38;5;124m\"\u001b[39m\n\u001b[1;32m-> 1661\u001b[0m \u001b[38;5;28mself\u001b[39m\u001b[38;5;241m.\u001b[39mhandles \u001b[38;5;241m=\u001b[39m get_handle(\n\u001b[0;32m   1662\u001b[0m     f,\n\u001b[0;32m   1663\u001b[0m     mode,\n\u001b[0;32m   1664\u001b[0m     encoding\u001b[38;5;241m=\u001b[39m\u001b[38;5;28mself\u001b[39m\u001b[38;5;241m.\u001b[39moptions\u001b[38;5;241m.\u001b[39mget(\u001b[38;5;124m\"\u001b[39m\u001b[38;5;124mencoding\u001b[39m\u001b[38;5;124m\"\u001b[39m, \u001b[38;5;28;01mNone\u001b[39;00m),\n\u001b[0;32m   1665\u001b[0m     compression\u001b[38;5;241m=\u001b[39m\u001b[38;5;28mself\u001b[39m\u001b[38;5;241m.\u001b[39moptions\u001b[38;5;241m.\u001b[39mget(\u001b[38;5;124m\"\u001b[39m\u001b[38;5;124mcompression\u001b[39m\u001b[38;5;124m\"\u001b[39m, \u001b[38;5;28;01mNone\u001b[39;00m),\n\u001b[0;32m   1666\u001b[0m     memory_map\u001b[38;5;241m=\u001b[39m\u001b[38;5;28mself\u001b[39m\u001b[38;5;241m.\u001b[39moptions\u001b[38;5;241m.\u001b[39mget(\u001b[38;5;124m\"\u001b[39m\u001b[38;5;124mmemory_map\u001b[39m\u001b[38;5;124m\"\u001b[39m, \u001b[38;5;28;01mFalse\u001b[39;00m),\n\u001b[0;32m   1667\u001b[0m     is_text\u001b[38;5;241m=\u001b[39mis_text,\n\u001b[0;32m   1668\u001b[0m     errors\u001b[38;5;241m=\u001b[39m\u001b[38;5;28mself\u001b[39m\u001b[38;5;241m.\u001b[39moptions\u001b[38;5;241m.\u001b[39mget(\u001b[38;5;124m\"\u001b[39m\u001b[38;5;124mencoding_errors\u001b[39m\u001b[38;5;124m\"\u001b[39m, \u001b[38;5;124m\"\u001b[39m\u001b[38;5;124mstrict\u001b[39m\u001b[38;5;124m\"\u001b[39m),\n\u001b[0;32m   1669\u001b[0m     storage_options\u001b[38;5;241m=\u001b[39m\u001b[38;5;28mself\u001b[39m\u001b[38;5;241m.\u001b[39moptions\u001b[38;5;241m.\u001b[39mget(\u001b[38;5;124m\"\u001b[39m\u001b[38;5;124mstorage_options\u001b[39m\u001b[38;5;124m\"\u001b[39m, \u001b[38;5;28;01mNone\u001b[39;00m),\n\u001b[0;32m   1670\u001b[0m )\n\u001b[0;32m   1671\u001b[0m \u001b[38;5;28;01massert\u001b[39;00m \u001b[38;5;28mself\u001b[39m\u001b[38;5;241m.\u001b[39mhandles \u001b[38;5;129;01mis\u001b[39;00m \u001b[38;5;129;01mnot\u001b[39;00m \u001b[38;5;28;01mNone\u001b[39;00m\n\u001b[0;32m   1672\u001b[0m f \u001b[38;5;241m=\u001b[39m \u001b[38;5;28mself\u001b[39m\u001b[38;5;241m.\u001b[39mhandles\u001b[38;5;241m.\u001b[39mhandle\n",
      "File \u001b[1;32m~\\anaconda3\\Lib\\site-packages\\pandas\\io\\common.py:859\u001b[0m, in \u001b[0;36mget_handle\u001b[1;34m(path_or_buf, mode, encoding, compression, memory_map, is_text, errors, storage_options)\u001b[0m\n\u001b[0;32m    854\u001b[0m \u001b[38;5;28;01melif\u001b[39;00m \u001b[38;5;28misinstance\u001b[39m(handle, \u001b[38;5;28mstr\u001b[39m):\n\u001b[0;32m    855\u001b[0m     \u001b[38;5;66;03m# Check whether the filename is to be opened in binary mode.\u001b[39;00m\n\u001b[0;32m    856\u001b[0m     \u001b[38;5;66;03m# Binary mode does not support 'encoding' and 'newline'.\u001b[39;00m\n\u001b[0;32m    857\u001b[0m     \u001b[38;5;28;01mif\u001b[39;00m ioargs\u001b[38;5;241m.\u001b[39mencoding \u001b[38;5;129;01mand\u001b[39;00m \u001b[38;5;124m\"\u001b[39m\u001b[38;5;124mb\u001b[39m\u001b[38;5;124m\"\u001b[39m \u001b[38;5;129;01mnot\u001b[39;00m \u001b[38;5;129;01min\u001b[39;00m ioargs\u001b[38;5;241m.\u001b[39mmode:\n\u001b[0;32m    858\u001b[0m         \u001b[38;5;66;03m# Encoding\u001b[39;00m\n\u001b[1;32m--> 859\u001b[0m         handle \u001b[38;5;241m=\u001b[39m \u001b[38;5;28mopen\u001b[39m(\n\u001b[0;32m    860\u001b[0m             handle,\n\u001b[0;32m    861\u001b[0m             ioargs\u001b[38;5;241m.\u001b[39mmode,\n\u001b[0;32m    862\u001b[0m             encoding\u001b[38;5;241m=\u001b[39mioargs\u001b[38;5;241m.\u001b[39mencoding,\n\u001b[0;32m    863\u001b[0m             errors\u001b[38;5;241m=\u001b[39merrors,\n\u001b[0;32m    864\u001b[0m             newline\u001b[38;5;241m=\u001b[39m\u001b[38;5;124m\"\u001b[39m\u001b[38;5;124m\"\u001b[39m,\n\u001b[0;32m    865\u001b[0m         )\n\u001b[0;32m    866\u001b[0m     \u001b[38;5;28;01melse\u001b[39;00m:\n\u001b[0;32m    867\u001b[0m         \u001b[38;5;66;03m# Binary mode\u001b[39;00m\n\u001b[0;32m    868\u001b[0m         handle \u001b[38;5;241m=\u001b[39m \u001b[38;5;28mopen\u001b[39m(handle, ioargs\u001b[38;5;241m.\u001b[39mmode)\n",
      "\u001b[1;31mFileNotFoundError\u001b[0m: [Errno 2] No such file or directory: '/content/OBS_계절관측_20240313151429.csv'"
     ]
    }
   ],
   "source": [
    "df = pd.read_csv(\"C:\\Users\\USER\\Desktop\\did.you.see\\data\\OBS_계절관측_20240313151429.csv\"\", encoding = 'cp949')\n",
    "df.head(25)"
   ]
  },
  {
   "cell_type": "code",
   "execution_count": null,
   "metadata": {
    "colab": {
     "base_uri": "https://localhost:8080/"
    },
    "id": "Lf5SZ1O1dbiy",
    "outputId": "00c9fd5b-626b-4ea2-ff3a-dee8382d0bc5"
   },
   "outputs": [],
   "source": [
    "df.columns"
   ]
  },
  {
   "cell_type": "code",
   "execution_count": null,
   "metadata": {
    "colab": {
     "base_uri": "https://localhost:8080/",
     "height": 322
    },
    "id": "85MUfk2udmKK",
    "outputId": "e6baf5ad-28ca-4a4f-e005-dbf2db227b6d"
   },
   "outputs": [],
   "source": [
    "df.columns = ['지점', '년도', '매화.발아', '매화.발아(평비)', '매화.개화', '매화.개화(평비)', '매화.만발', '매화.만발(평비)', '개나리.발아',\n",
    "       '개나리.발아(평비)', '개나리.개화', '개나리.개화(평비)', '개나리.만발', '개나리.만발(평비)', '진달래.발아', '진달래.발아(평비)', '진달래.개화',\n",
    "       '진달래.개화(평비)', '진달래.만발', '진달래.만발(평비)', '벚나무.발아', '벚나무.발아(평비)', '벚나무.개화', '벚나무.개화(평비)', '벚나무.만발',\n",
    "       '벚나무.만발(평비)']\n",
    "df.head()"
   ]
  },
  {
   "cell_type": "code",
   "execution_count": null,
   "metadata": {
    "colab": {
     "base_uri": "https://localhost:8080/",
     "height": 340
    },
    "id": "rbAQrBSjebNL",
    "outputId": "3f1877f9-7dbd-44c3-d6af-e1622999e106"
   },
   "outputs": [],
   "source": [
    "df = df.drop([0], axis=0)\n",
    "df.head()"
   ]
  },
  {
   "cell_type": "code",
   "execution_count": null,
   "metadata": {
    "colab": {
     "base_uri": "https://localhost:8080/"
    },
    "id": "ebO9b8_nfrkh",
    "outputId": "685d0d31-ba50-4b40-e849-c91287b68b69"
   },
   "outputs": [],
   "source": [
    "df.info()"
   ]
  },
  {
   "cell_type": "code",
   "execution_count": null,
   "metadata": {
    "colab": {
     "base_uri": "https://localhost:8080/"
    },
    "id": "sESpuW0ghYuL",
    "outputId": "a8dcfa12-8c53-4b67-97f7-2fec08280fa2"
   },
   "outputs": [],
   "source": [
    "cols = df.columns\n",
    "\n",
    "for i, col_name in enumerate(cols):\n",
    "  print(df[col_name].value_counts)\n"
   ]
  },
  {
   "cell_type": "code",
   "execution_count": null,
   "metadata": {
    "id": "PGMicqMYf1fZ"
   },
   "outputs": [],
   "source": [
    "df = df.replace(\"결측\", np.nan)\n",
    "df = df.replace(\"―\", np.nan)\n",
    "df = df.replace(\" \",np.nan)"
   ]
  },
  {
   "cell_type": "code",
   "execution_count": null,
   "metadata": {
    "colab": {
     "base_uri": "https://localhost:8080/"
    },
    "id": "ljRR6q8Inwb8",
    "outputId": "a886cc41-1e11-4c11-d19b-5fab75b6863c"
   },
   "outputs": [],
   "source": [
    "df.isna().sum()"
   ]
  },
  {
   "cell_type": "code",
   "execution_count": null,
   "metadata": {
    "colab": {
     "base_uri": "https://localhost:8080/",
     "height": 1000
    },
    "id": "-6L4TsENjFqp",
    "outputId": "9039be71-76ae-42ba-d450-4d1cf411d940"
   },
   "outputs": [],
   "source": [
    "df['년도'] = df['년도'].astype(\"int\")\n",
    "df"
   ]
  },
  {
   "cell_type": "code",
   "execution_count": null,
   "metadata": {
    "colab": {
     "base_uri": "https://localhost:8080/",
     "height": 946
    },
    "id": "eQUNCceyjubg",
    "outputId": "f4abebf5-6bab-4798-c7b2-a48ffc242c54"
   },
   "outputs": [],
   "source": [
    "df['매화.발아'] = pd.to_datetime(df['매화.발아'], format='%Y-%m-%d').dt.strftime('%m-%d')\n",
    "df['매화.개화'] = pd.to_datetime(df['매화.개화'], format='%Y-%m-%d').dt.strftime('%m-%d')\n",
    "df['매화.만발'] = pd.to_datetime(df['매화.만발'], format='%Y-%m-%d').dt.strftime('%m-%d')\n",
    "df['개나리.발아'] = pd.to_datetime(df['개나리.발아'], format='%Y-%m-%d').dt.strftime('%m-%d')\n",
    "df['개나리.개화'] = pd.to_datetime(df['개나리.개화'], format='%Y-%m-%d').dt.strftime('%m-%d')\n",
    "df['개나리.만발'] = pd.to_datetime(df['개나리.만발'], format='%Y-%m-%d').dt.strftime('%m-%d')\n",
    "df['진달래.발아'] = pd.to_datetime(df['진달래.발아'], format='%Y-%m-%d').dt.strftime('%m-%d')\n",
    "df['진달래.개화'] = pd.to_datetime(df['진달래.개화'], format='%Y-%m-%d').dt.strftime('%m-%d')\n",
    "df['진달래.만발'] = pd.to_datetime(df['진달래.만발'], format='%Y-%m-%d').dt.strftime('%m-%d')\n",
    "df['벚나무.발아'] = pd.to_datetime(df['벚나무.발아'], format='%Y-%m-%d').dt.strftime('%m-%d')\n",
    "df['벚나무.개화'] = pd.to_datetime(df['벚나무.개화'], format='%Y-%m-%d').dt.strftime('%m-%d')\n",
    "df['벚나무.만발'] = pd.to_datetime(df['벚나무.만발'], format='%Y-%m-%d').dt.strftime('%m-%d')\n",
    "\n",
    "df.info()\n",
    "df.head()"
   ]
  },
  {
   "cell_type": "code",
   "execution_count": null,
   "metadata": {
    "colab": {
     "base_uri": "https://localhost:8080/",
     "height": 1000
    },
    "id": "iZ6MgRzlhv4x",
    "outputId": "0ad49656-8aec-45b3-bfdb-8fbd90b3e069"
   },
   "outputs": [],
   "source": [
    "df"
   ]
  },
  {
   "cell_type": "code",
   "execution_count": null,
   "metadata": {
    "id": "arQDhmn4g9OP"
   },
   "outputs": [],
   "source": [
    "#다시 datetime으로 바꿔주기\n",
    "\n",
    "df['매화.발아'] = pd.to_datetime(df['매화.발아'], format='%m-%d')\n",
    "df['매화.개화'] = pd.to_datetime(df['매화.개화'], format='%m-%d', errors='coerce')\n",
    "df['매화.만발'] = pd.to_datetime(df['매화.만발'], format='%m-%d')\n",
    "df['개나리.발아'] = pd.to_datetime(df['개나리.발아'], format='%m-%d')\n",
    "df['개나리.개화'] = pd.to_datetime(df['개나리.개화'], format='%m-%d')\n",
    "df['개나리.만발'] = pd.to_datetime(df['개나리.만발'], format='%m-%d')\n",
    "df['진달래.발아'] = pd.to_datetime(df['진달래.발아'], format='%m-%d')\n",
    "df['진달래.개화'] = pd.to_datetime(df['진달래.개화'], format='%m-%d')\n",
    "df['진달래.만발'] = pd.to_datetime(df['진달래.만발'], format='%m-%d')\n",
    "df['벚나무.발아'] = pd.to_datetime(df['벚나무.발아'], format='%m-%d')\n",
    "df['벚나무.개화'] = pd.to_datetime(df['벚나무.개화'], format='%m-%d')\n",
    "df['벚나무.만발'] = pd.to_datetime(df['벚나무.만발'], format='%m-%d')"
   ]
  },
  {
   "cell_type": "code",
   "execution_count": null,
   "metadata": {
    "colab": {
     "base_uri": "https://localhost:8080/",
     "height": 1000
    },
    "id": "0sTkIVjoqUpb",
    "outputId": "54561345-294a-4645-a888-130d62040a68"
   },
   "outputs": [],
   "source": [
    "\n",
    "df"
   ]
  },
  {
   "cell_type": "code",
   "execution_count": null,
   "metadata": {
    "colab": {
     "base_uri": "https://localhost:8080/",
     "height": 1000
    },
    "id": "fv4vxr-Fn6nH",
    "outputId": "0dd124cc-d43b-4d24-f719-2265a9c237f1"
   },
   "outputs": [],
   "source": [
    "#일단 벚나무에 대한 그래프를 그리자\n",
    "#가로축은 연도\n",
    "#세로축은 2~4월 일수(0~()일)\n",
    "\n",
    "import matplotlib.dates as mdates\n",
    "import matplotlib.pyplot as plt\n",
    "import seaborn as sns\n",
    "\n",
    "plt.rc('font', family='NanumBarunGothic')\n",
    "plt.rcParams['axes.unicode_minus'] =False\n",
    "\n",
    "fig = plt.figure(figsize=(10,10))\n",
    "ax = fig.add_subplot(111)\n",
    "\n",
    "sns.set_style(\"whitegrid\", {'grid.linestyle': '--'})\n",
    "y_range = np.arange(1, len(df.index) + 1)\n",
    "plt.hlines(y=df['년도'], xmin=df['벚나무.발아'], xmax=df['벚나무.만발'], lw=5, color = \"#E5E5E5\" )\n",
    "plt.hlines(y=df['년도'], xmin=df['벚나무.발아'], xmax=df['벚나무.개화'], lw=5, color = \"#E5E5E5\")\n",
    "\n",
    "plt.scatter(df['벚나무.발아'], df['년도'], color = \"#FFD9E0\", s=30, label=\"발아\", zorder = 3)\n",
    "plt.scatter(df['벚나무.개화'], df['년도'], color = \"#FF6884\", s=30, label = \"개화\", zorder=3)\n",
    "plt.scatter(df['벚나무.만발'], df['년도'], color = \"#BA475C\", s=30, label = \"만발\", zorder = 3)\n",
    "\n",
    "plt.legend()\n",
    "\n",
    "ax.xaxis.set_major_formatter(mdates.DateFormatter('%m-%d'))\n",
    "#plt.hlines(y=df['년도'], xmin=df['개나리.발아'], xmax=df['개나리.만발'], lw=5, color = \"#E5E5E5\" )\n",
    "#plt.hlines(y=df['년도'], xmin=df['개나리.발아'], xmax=df['개나리.개화'], lw=5, color = \"#E5E5E5\")\n",
    "\n",
    "#plt.scatter(df['개나리.발아'], df['년도'], color = \"#FFEA9F\", s=30, label=\"buds\", zorder = 3)\n",
    "#plt.scatter(df['개나리.개화'], df['년도'], color = \"#FFD849\", s=30, label = \"flower\", zorder=3)\n",
    "#plt.scatter(df['개나리.만발'], df['년도'], color = \"#FFA900\", s=30, label = \"end\", zorder = 3)\n",
    "\n",
    "plt.savefig(\"cherryblossom.png\")\n",
    "plt.show()"
   ]
  },
  {
   "cell_type": "code",
   "execution_count": null,
   "metadata": {
    "colab": {
     "base_uri": "https://localhost:8080/",
     "height": 1000
    },
    "id": "4SmS8mkJI3lg",
    "outputId": "e2b838cf-e391-4fb6-df69-dfc1dba78e61"
   },
   "outputs": [],
   "source": [
    "#여러 꽃의 개화시점 scatter\n",
    "#봄꽃의 순서는 뒤틀리고 있는가\n",
    "\n",
    "fig = plt.figure(figsize=(10,10))\n",
    "plt.rc('font', family='NanumBarunGothic')\n",
    "\n",
    "ax = fig.add_subplot(111)\n",
    "\n",
    "sns.set_style(\"whitegrid\", {'grid.linestyle': '--'})\n",
    "y_range = np.arange(1, len(df.index) + 1)\n",
    "plt.hlines(y=df['년도'], xmin=df['개나리.개화'], xmax=df['벚나무.개화'], lw=5, color = \"#E5E5E5\" )\n",
    "#plt.hlines(y=df['년도'], xmin=df['벚나무.발아'], xmax=df['벚나무.개화'], lw=5, color = \"#E5E5E5\")\n",
    "\n",
    "#plt.scatter(df['매화.개화'], df['년도'], color = \"#FF5858\", s=30, label = \"매화\", zorder=3)\n",
    "plt.scatter(df['개나리.개화'], df['년도'], color = \"#FFD630\", s=30, label = \"개나리\", zorder=3)\n",
    "plt.scatter(df['진달래.개화'], df['년도'], color = \"#FC30FF\", s=30, label = \"진달래\", zorder=3)\n",
    "plt.scatter(df['벚나무.개화'], df['년도'], color = \"#FFB3CE\", s=30, label = \"벚꽃\", zorder=3)\n",
    "plt.legend()\n",
    "\n",
    "ax.xaxis.set_major_formatter(mdates.DateFormatter('%m-%d'))\n",
    "\n",
    "\n",
    "#plt.hlines(y=df['년도'], xmin=df['개나리.발아'], xmax=df['개나리.만발'], lw=5, color = \"#E5E5E5\" )\n",
    "#plt.hlines(y=df['년도'], xmin=df['개나리.발아'], xmax=df['개나리.개화'], lw=5, color = \"#E5E5E5\")\n",
    "\n",
    "#plt.scatter(df['개나리.발아'], df['년도'], color = \"#FFEA9F\", s=30, label=\"buds\", zorder = 3)\n",
    "#plt.scatter(df['개나리.개화'], df['년도'], color = \"#FFD849\", s=30, label = \"flower\", zorder=3)\n",
    "#plt.scatter(df['개나리.만발'], df['년도'], color = \"#FFA900\", s=30, label = \"end\", zorder = 3)"
   ]
  },
  {
   "cell_type": "code",
   "execution_count": null,
   "metadata": {
    "colab": {
     "base_uri": "https://localhost:8080/"
    },
    "id": "M5XPkRZMYEPf",
    "outputId": "5d759b67-b50b-406a-cbd1-d15e8c425582"
   },
   "outputs": [],
   "source": [
    "#개나리와 벚꽃 개화 시기의 편차\n",
    "\n",
    "df['개나리 벚꽃 편차'] = df['벚나무.개화'] - df['개나리.개화']\n",
    "df['개나리 벚꽃 편차'] = df['개나리 벚꽃 편차'].dt.days\n",
    "df.info()"
   ]
  },
  {
   "cell_type": "code",
   "execution_count": null,
   "metadata": {
    "colab": {
     "base_uri": "https://localhost:8080/",
     "height": 662
    },
    "id": "mwAHvZPbwYqB",
    "outputId": "a690dae9-a9ef-4e39-d3de-5b7738f9e854"
   },
   "outputs": [],
   "source": [
    "fig = plt.figure(figsize = (30, 10))\n",
    "plt.rc('font', family='NanumBarunGothic')\n",
    "\n",
    "sns.barplot(data= df, x='년도', y='개나리 벚꽃 편차', width = 0.3)"
   ]
  }
 ],
 "metadata": {
  "colab": {
   "provenance": []
  },
  "kernelspec": {
   "display_name": "Python 3 (ipykernel)",
   "language": "python",
   "name": "python3"
  },
  "language_info": {
   "codemirror_mode": {
    "name": "ipython",
    "version": 3
   },
   "file_extension": ".py",
   "mimetype": "text/x-python",
   "name": "python",
   "nbconvert_exporter": "python",
   "pygments_lexer": "ipython3",
   "version": "3.11.5"
  }
 },
 "nbformat": 4,
 "nbformat_minor": 1
}
